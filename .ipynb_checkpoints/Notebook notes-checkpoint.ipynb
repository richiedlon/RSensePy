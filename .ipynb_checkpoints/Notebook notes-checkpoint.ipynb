{
 "cells": [
  {
   "cell_type": "markdown",
   "id": "1b22ab06",
   "metadata": {},
   "source": [
    "#### Jupyter notebook notes"
   ]
  },
  {
   "cell_type": "markdown",
   "id": "617ef7cf",
   "metadata": {},
   "source": [
    "to upgrade pip version within directory which the notebooks currently executes from"
   ]
  },
  {
   "cell_type": "code",
   "execution_count": 48,
   "id": "8032d314",
   "metadata": {},
   "outputs": [
    {
     "name": "stdout",
     "output_type": "stream",
     "text": [
      "Defaulting to user installation because normal site-packages is not writeable\n",
      "Requirement already satisfied: pip in c:\\users\\xeon\\appdata\\roaming\\python\\python39\\site-packages (23.1.2)\n",
      "Collecting pip\n",
      "  Using cached pip-23.2.1-py3-none-any.whl (2.1 MB)\n",
      "Installing collected packages: pip\n",
      "  Attempting uninstall: pip\n",
      "    Found existing installation: pip 23.1.2\n",
      "    Uninstalling pip-23.1.2:\n",
      "      Successfully uninstalled pip-23.1.2\n",
      "Successfully installed pip-23.2.1\n"
     ]
    }
   ],
   "source": [
    "!\"{sys.executable}\" -m pip install --upgrade pip"
   ]
  },
  {
   "cell_type": "markdown",
   "id": "bf2adbd1",
   "metadata": {},
   "source": [
    "to show the version of pip currently installed"
   ]
  },
  {
   "cell_type": "code",
   "execution_count": 49,
   "id": "3ef5d9a7",
   "metadata": {},
   "outputs": [
    {
     "name": "stdout",
     "output_type": "stream",
     "text": [
      "Name: pip\n",
      "Version: 23.2.1\n",
      "Summary: The PyPA recommended tool for installing Python packages.\n",
      "Home-page: https://pip.pypa.io/\n",
      "Author: The pip developers\n",
      "Author-email: distutils-sig@python.org\n",
      "License: MIT\n",
      "Location: c:\\users\\xeon\\appdata\\roaming\\python\\python39\\site-packages\n",
      "Requires: \n",
      "Required-by: \n",
      "Note: you may need to restart the kernel to use updated packages.\n"
     ]
    }
   ],
   "source": [
    "pip show pip"
   ]
  }
 ],
 "metadata": {
  "kernelspec": {
   "display_name": "Python 3 (ipykernel)",
   "language": "python",
   "name": "python3"
  },
  "language_info": {
   "codemirror_mode": {
    "name": "ipython",
    "version": 3
   },
   "file_extension": ".py",
   "mimetype": "text/x-python",
   "name": "python",
   "nbconvert_exporter": "python",
   "pygments_lexer": "ipython3",
   "version": "3.9.16"
  }
 },
 "nbformat": 4,
 "nbformat_minor": 5
}
