{
 "cells": [
  {
   "cell_type": "markdown",
   "id": "1b22ab06",
   "metadata": {},
   "source": [
    "# Estimating Burned Area Using RSensePy"
   ]
  },
  {
   "cell_type": "markdown",
   "id": "a2ed3536",
   "metadata": {},
   "source": [
    "This notebook introduces the biophyical index calculator, RSensePy, and guides users on how to calculate one of the increasingly available vegetation indices therein. Please substitue the input parameter (imagery, shapefile, e.t.c) where necessary."
   ]
  },
  {
   "cell_type": "markdown",
   "id": "9dd23abe",
   "metadata": {},
   "source": [
    "## Section 1 \n",
    "\n",
    "# Mapping Maui's Wildfires. "
   ]
  },
  {
   "cell_type": "markdown",
   "id": "49cc5945",
   "metadata": {},
   "source": [
    "Between August 7th and 9th, Hurricane Dora, a Category 4 storm, with max wind speeds above 130 miles per hour, passed by Hawaii. At approximatly 3:00am on August 8th, brush fire was reported in the Olinda Road area of Kula, an area in central Maui. Fueled by the severe storms from Dora, this fire as well as others like it would spring up across parts of West and Central Maui, raging on for 4 days. The aftermath would see over 100 people dead, an estimated 2200 building destroyed, and much of the touristic and economic hub of Lahaina, on the island’s western edge, reduced to ashes. \n",
    "\n",
    "The internet is filled with shpocking images of this devastation, mostly provided by on ground reporters and affected residents. Using Remote sening, by way of freely available Landsat 9 imagery, and the RSensePy biophysical Index calculator, we will now visulaize the damage caused especially in Lahaina, the area worst hit.\n",
    "\n",
    "For more details on RSensePy and how to use it, please read the docs. (https://rsensepy.readthedocs.io/en/latest/installation.html)"
   ]
  },
  {
   "cell_type": "code",
   "execution_count": null,
   "id": "ac48cae5",
   "metadata": {},
   "outputs": [],
   "source": [
    "pip install RSensePy==0.0.4"
   ]
  },
  {
   "cell_type": "markdown",
   "id": "6b994380",
   "metadata": {},
   "source": [
    "#### To check the installed version for RSensePy and pip. This ensures that you are using the latest versions available."
   ]
  },
  {
   "cell_type": "code",
   "execution_count": null,
   "id": "279305bb",
   "metadata": {},
   "outputs": [],
   "source": [
    "pip show RSensePy"
   ]
  },
  {
   "cell_type": "code",
   "execution_count": null,
   "id": "735c51f6",
   "metadata": {},
   "outputs": [],
   "source": [
    "pip show pip"
   ]
  },
  {
   "cell_type": "code",
   "execution_count": null,
   "id": "c523c273",
   "metadata": {},
   "outputs": [],
   "source": [
    "import RSensePy as rp"
   ]
  },
  {
   "cell_type": "code",
   "execution_count": null,
   "id": "749e928e",
   "metadata": {},
   "outputs": [],
   "source": [
    "before= rp.L8(\"C://test//LC08_L2SP_063046_20230807_20230812_02_T1\")\n",
    "after= rp.L8(\"C://test//LC09_L2SP_063046_20230815_20230817_02_T1\")"
   ]
  },
  {
   "cell_type": "markdown",
   "id": "ccc4e8a3",
   "metadata": {},
   "source": [
    "#### Getting the image metadata is quite straightforward, just call the meta method."
   ]
  },
  {
   "cell_type": "code",
   "execution_count": null,
   "id": "d62d00ba",
   "metadata": {},
   "outputs": [],
   "source": [
    "before.meta()"
   ]
  },
  {
   "cell_type": "code",
   "execution_count": null,
   "id": "83c6d6b3",
   "metadata": {},
   "outputs": [],
   "source": [
    "after.meta()"
   ]
  },
  {
   "cell_type": "markdown",
   "id": "8950a359",
   "metadata": {},
   "source": [
    "#### From the metadata, we see the acquisition/sensing date for the before image is 7th of August, before the fire started, while the after image is acquired on the 15th of August after the fires have sucessfully been put out."
   ]
  },
  {
   "cell_type": "markdown",
   "id": "fad9d2a1",
   "metadata": {},
   "source": [
    "## Calculating Normalise Burn Ratio"
   ]
  },
  {
   "cell_type": "markdown",
   "id": "06ca5f36",
   "metadata": {},
   "source": [
    "To estimate recently burned areas, the most popular biophysical index used is teh Normalised Burn Ratio. This parameter uses the refelctance in the shortwave infrared and near infrared band of teh electromagnetic spectrum. These bands are sensitive to changes in vegetation health and burn severity. To calculate teh Normalised Burn Ratio, we call the .NBR function in RSensePy. \n",
    "\n",
    "Before that however, we must define an output file, and an AOI within which the analysis will be run. The AOI could be either the coordinates of a bounding box, or a shapefile created a-priori. In this case , we utilise the latter. \n",
    "\n",
    "Note: If the entire image is to be analysed, define the shapefile or bounding box to the size of the entire image."
   ]
  },
  {
   "cell_type": "code",
   "execution_count": null,
   "id": "f5928979",
   "metadata": {},
   "outputs": [],
   "source": [
    "#set bounding box, within which the procesising and output will be clipped. \n",
    "#An alternative is to use a pre-existing shapefile\n",
    "\n",
    "lahainashp= \"C:/test/lahania.shp\"\n",
    "beforeNBR= \"C:/test/output/beforeNBR.tif\" #output folder should be created a-priori\n",
    "\n",
    "#calling the NBR method to calculate the Normalied Burn Ratio.\n",
    "before.NBR(cloud=True, save_location=beforeNBR, shp_location=lahainashp, visualise=True)"
   ]
  },
  {
   "cell_type": "code",
   "execution_count": null,
   "id": "ee827b1b",
   "metadata": {},
   "outputs": [],
   "source": [
    "afterNBR= \"C:/test/output/afterNBR.tif\"\n",
    "\n",
    "#calling the NBR method to calculate the Normalied Burn Ratio.\n",
    "after.NBR(cloud=True, save_location=afterNBR, shp_location=lahainashp, visualise=True)"
   ]
  },
  {
   "cell_type": "markdown",
   "id": "51e16423",
   "metadata": {},
   "source": [
    "#### To better visualise the actual extent of recently burned areas, we call the get_differnce function in RSensePy, which gives a difference between 2 input images. "
   ]
  },
  {
   "cell_type": "code",
   "execution_count": null,
   "id": "ea9edaad",
   "metadata": {},
   "outputs": [],
   "source": [
    "diffNBR = \"C:/test/output/diffNBR.tif\"\n",
    "rp.get_difference(savelocation=diffNBR, visualise=True, image1=\"C:/test/output/afterNBR.tif\", image2=\"C:/test/output/beforeNBR.tif\")"
   ]
  },
  {
   "cell_type": "markdown",
   "id": "7c5d66c5",
   "metadata": {},
   "source": [
    "## Maui Results\n",
    "\n",
    "According to UN-SPIDER guide on Burn area estimation (https://un-spider.org/advisory-support/recommended-practices/recommended-practice-burn-severity/in-detail/normalized-burn-ratio#:~:text=A%20high%20NBR%20value%20indicates,to%20values%20close%20to%20zero.), a high NBR value indicates healthy vegetation (areas in green) while a low value (areas in red) indicates bare ground and recently burnt areas. Non-burnt areas are normally attributed to values close to zero (areas in orange).\n",
    "\n",
    "Going by the above, we can clearly see from the 'after' map the burned areas in Lahaina, Maui. The 'difference' map further confirms areas that where burned within the 7 days which fire raged. We can see the residential areas around Lahaina road severlly affected. This which corresponds to the images from news and social media, also corroborating this well mapped report (https://www.latimes.com/projects/maps-maui-fire-destroyed-lahaina-satellite/) by the LA Times. "
   ]
  },
  {
   "cell_type": "markdown",
   "id": "867256c4",
   "metadata": {},
   "source": [
    "## Section 2\n",
    "\n",
    "# Mapping Euboea's Wildfires\n",
    "\n",
    "Rising global tempratures and geogrpahy makes Greece prone to severe heatwaves and wildfires. This chronic yearly phenomena continues to cause devastation across the country where tempratures constantly exceed 40 degrees celcius in the summer. 2023 is no exception with wildfires being reported since July. Over 80 fires have been recorded, with at least 35 dead as at August 2023. \n",
    "\n",
    "Similar situations were observed in 2021 as well, where Greece experience the worst wildfires since 2007. One of the areas chronicly affected Euboea(EVia), the second most populus island in Greece. More than a third of land area detroyed by the 2021 Greece wildfires were in Northern Euboea. We will now go on to visulaize this area using RSensepy and Sentinel 2 Imagery.\n",
    "\n",
    "### To use Sentinel 2 imagery with RSensePy, it is important to check the following\n",
    "\n",
    "* The imagery files are located within the current working directory\n",
    "* The Sentinel 2 product folder contains only the relevant resolution folder (e.g. if 20m resolution is being used, delete the other 10 and 60 meter folders). \n",
    "or \n",
    "* Extract just the relevant resolution folder into a parent folder with the same name as the downloaded sentinel 2 product.\n",
    "\n",
    "Also, Sentinel 2 cloud masking is not currently implememted. Therefore, it is adviced to use imagery with below 10% cloud cover as not to cause misleading results. The cloud masking implementation is currenlty underway and will be implemented soon."
   ]
  },
  {
   "cell_type": "code",
   "execution_count": null,
   "id": "00a42cf9",
   "metadata": {},
   "outputs": [],
   "source": [
    "beforeS2 = rp.S2(\"C://test//S2B_MSIL2A_20210801T092029_N0301_R093_T34SFJ_20210801T114000.SAFE\")\n",
    "afterS2 = rp.S2(\"C://test//S2A_MSIL2A_20210925T092031_N0301_R093_T34SFJ_20210925T124522.SAFE\")"
   ]
  },
  {
   "cell_type": "code",
   "execution_count": null,
   "id": "ea13dd54",
   "metadata": {},
   "outputs": [],
   "source": [
    "beforeS2.meta()"
   ]
  },
  {
   "cell_type": "code",
   "execution_count": null,
   "id": "bb8935fa",
   "metadata": {},
   "outputs": [],
   "source": [
    "afterS2.meta()"
   ]
  },
  {
   "cell_type": "code",
   "execution_count": null,
   "id": "9ed9370f",
   "metadata": {},
   "outputs": [],
   "source": [
    "Euboeashp= \"C:/test/Euboea.shp\"\n",
    "beforeS2NBR= \"C:/test/output/beforeS2NBR.tif\" #output folder should be created a-priori\n",
    "\n",
    "#calling the NBR method to calculate the Normalied Burn Ratio. Because there is no cloud masking implemented yet, this is not a required parameter in the S2 class\n",
    "beforeS2.NBR(save_location=beforeS2NBR, shp_location=Euboeashp, visualise=True)"
   ]
  },
  {
   "cell_type": "code",
   "execution_count": null,
   "id": "c073cde8",
   "metadata": {},
   "outputs": [],
   "source": [
    "afterS2NBR= \"C:/test/output/afterS2NBR.tif\" #output folder should be created a-priori\n",
    "\n",
    "#calling the NBR method to calculate the Normalied Burn Ratio.\n",
    "afterS2.NBR(save_location=afterS2NBR, shp_location=Euboeashp, visualise=True)"
   ]
  },
  {
   "cell_type": "code",
   "execution_count": null,
   "id": "e1b4ddf2",
   "metadata": {},
   "outputs": [],
   "source": [
    "diffS2NBR = \"C:/test/output/diffS2NBR.tif\"\n",
    "rp.get_difference(savelocation=diffS2NBR, visualise=True, image1=\"C:/test/output/afterS2NBR.tif\", image2=\"C:/test/output/beforeS2NBR.tif\")"
   ]
  },
  {
   "cell_type": "markdown",
   "id": "6cef5573",
   "metadata": {},
   "source": [
    "## Euboea Results\n",
    "\n",
    "Going by the above results, we can clearly estimate the recently burned areas from the south eastern part of the 'difference' map. because of the nature of the coastal waters in this part of the world, there is strong sensitivity in the SWIR band, hence the sharp negative values in that region. This can be easily corrected by masking out the using the scene classifcation layer (https://custom-scripts.sentinel-hub.com/custom-scripts/sentinel-2/scene-classification/) that ships with sentinel 2 product. \n",
    "\n",
    "For more on that, please visit the reference tutorial from EUMETSAT (https://fire.trainhub.eumetsat.int/docs/figure2345_Sentinel-2.html)."
   ]
  },
  {
   "cell_type": "markdown",
   "id": "e33ff3f9",
   "metadata": {},
   "source": [
    "## Section 3\n",
    "\n",
    "# Test Code for all currently existing Indecies in RSensePy"
   ]
  },
  {
   "cell_type": "markdown",
   "id": "4cfaa472",
   "metadata": {},
   "source": [
    " To get an  updated list of the currently available parameter run the getCapabilities function as below;\n",
    " ### rp.getCapabilities "
   ]
  },
  {
   "cell_type": "code",
   "execution_count": null,
   "id": "3aac1a3b",
   "metadata": {},
   "outputs": [],
   "source": [
    "rp.getCapabilities()"
   ]
  },
  {
   "cell_type": "markdown",
   "id": "c05673ac",
   "metadata": {},
   "source": [
    "### For Landsat 8/9 Imagery"
   ]
  },
  {
   "cell_type": "code",
   "execution_count": null,
   "id": "f4fd82aa",
   "metadata": {},
   "outputs": [],
   "source": [
    "imageryL8 = rp.L8(\"C://test//LC08_L2SP_063046_20230807_20230812_02_T1\")\n",
    "shapefileL8 = \"C:/test/lahania.shp\"\n",
    "testNDVI = \"C:/test/output/testNDVI.tif\"\n",
    "testEVI = \"C:/test/output/testEVI.tif\"\n",
    "testNDWI = \"C:/test/output/testNDWI.tif\"\n",
    "testNDBI = \"C:/test/output/testNDBI.tif\"\n",
    "testGNDVI = \"C:/test/output/testGNDVI.tif\"\n",
    "testGLI = \"C:/test/output/testGLI.tif\"\n",
    "testSAVI = \"C:/test/output/testSAVI.tif\"\n",
    "testGSAVI = \"C:/test/output/testGSAVI.tif\"\n",
    "testGCI = \"C:/test/output/testGCI.tif\"\n",
    "testVARI = \"C:/test/output/testVARI.tif\""
   ]
  },
  {
   "cell_type": "code",
   "execution_count": null,
   "id": "20056f48",
   "metadata": {
    "scrolled": true
   },
   "outputs": [],
   "source": [
    "imageryL8.NDVI(cloud=True, save_location=testNDVI, shp_location=shapefileL8, visualise=True)"
   ]
  },
  {
   "cell_type": "code",
   "execution_count": null,
   "id": "9d9c9282",
   "metadata": {
    "scrolled": true
   },
   "outputs": [],
   "source": [
    "imageryL8.EVI(cloud=True, save_location=testEVI, shp_location=shapefileL8, visualise=True)\n",
    "#The values may not dispaly here properly, but check the saved file to see the proper results."
   ]
  },
  {
   "cell_type": "code",
   "execution_count": null,
   "id": "34f85184",
   "metadata": {
    "scrolled": true
   },
   "outputs": [],
   "source": [
    "imageryL8.NDWI(cloud=True, save_location=testNDWI, shp_location=shapefileL8, visualise=True)"
   ]
  },
  {
   "cell_type": "code",
   "execution_count": null,
   "id": "53e043c1",
   "metadata": {
    "scrolled": true
   },
   "outputs": [],
   "source": [
    "imageryL8.NDBI(cloud=True, save_location=testNDBI, shp_location=shapefileL8, visualise=True)"
   ]
  },
  {
   "cell_type": "code",
   "execution_count": null,
   "id": "177d01e4",
   "metadata": {
    "scrolled": true
   },
   "outputs": [],
   "source": [
    "imageryL8.GNDVI(cloud=True, save_location=testGNDVI, shp_location=shapefileL8, visualise=True)"
   ]
  },
  {
   "cell_type": "code",
   "execution_count": null,
   "id": "af252f4c",
   "metadata": {
    "scrolled": true
   },
   "outputs": [],
   "source": [
    "imageryL8.GLI(cloud=True, save_location=testGLI, shp_location=shapefileL8, visualise=True)"
   ]
  },
  {
   "cell_type": "code",
   "execution_count": null,
   "id": "2508c96d",
   "metadata": {
    "scrolled": true
   },
   "outputs": [],
   "source": [
    "imageryL8.SAVI(cloud=True, save_location=testSAVI, shp_location=shapefileL8, visualise=True)"
   ]
  },
  {
   "cell_type": "code",
   "execution_count": null,
   "id": "ed63a173",
   "metadata": {
    "scrolled": true
   },
   "outputs": [],
   "source": [
    "imageryL8.GSAVI(cloud=True, save_location=testGSAVI, shp_location=shapefileL8, visualise=True)"
   ]
  },
  {
   "cell_type": "code",
   "execution_count": null,
   "id": "eb57aeff",
   "metadata": {
    "scrolled": true
   },
   "outputs": [],
   "source": [
    "imageryL8.GCI(cloud=True, save_location=testGCI, shp_location=shapefileL8, visualise=True)"
   ]
  },
  {
   "cell_type": "code",
   "execution_count": null,
   "id": "74780ea2",
   "metadata": {
    "scrolled": true
   },
   "outputs": [],
   "source": [
    "imageryL8.VARI(cloud=True, save_location=testVARI, shp_location=shapefileL8, visualise=True)"
   ]
  },
  {
   "cell_type": "markdown",
   "id": "92f87be8",
   "metadata": {},
   "source": [
    "### For Sentinel 2 Imagery"
   ]
  },
  {
   "cell_type": "markdown",
   "id": "d429e28b",
   "metadata": {},
   "source": [
    "##### All the indices above can also be run for Sentinel 2 Imagery, plus 1 more. Since Landsat does not have the Red-Edge band, the Red-Edge Chlorophyll Index, is one bonus index that can be calculated using your Sentinel 2 imagery. Example below"
   ]
  },
  {
   "cell_type": "code",
   "execution_count": null,
   "id": "951a163e",
   "metadata": {},
   "outputs": [],
   "source": [
    "imageryS2 = rp.S2(\"C://test//S2B_MSIL2A_20210801T092029_N0301_R093_T34SFJ_20210801T114000.SAFE\")\n",
    "shapefileS2 = \"C:/test/Euboea.shp\"\n",
    "test2RECI = \"C:/test/output/test2RECI.tif\"\n",
    "test2EVI = \"C:/test/output/test2EVI.tif\""
   ]
  },
  {
   "cell_type": "code",
   "execution_count": null,
   "id": "f278d80b",
   "metadata": {
    "scrolled": true
   },
   "outputs": [],
   "source": [
    "imageryS2.RECI(save_location=test2RECI, shp_location=shapefileS2, visualise=True)"
   ]
  },
  {
   "cell_type": "code",
   "execution_count": null,
   "id": "eb5b61a1",
   "metadata": {
    "scrolled": true
   },
   "outputs": [],
   "source": [
    "imageryS2.EVI(save_location=test2EVI, shp_location=shapefileS2, visualise=True)"
   ]
  },
  {
   "cell_type": "markdown",
   "id": "d13763b3",
   "metadata": {},
   "source": [
    "### Thats all for now. \n",
    "### Hope you enjoy using RSensePy as we have enjoyed bringing it to you!\n",
    "\n",
    "### From R.K.M.D Ekanayaka and Opeyemi Kazeem-Jimoh"
   ]
  }
 ],
 "metadata": {
  "kernelspec": {
   "display_name": "Python 3 (ipykernel)",
   "language": "python",
   "name": "python3"
  },
  "language_info": {
   "codemirror_mode": {
    "name": "ipython",
    "version": 3
   },
   "file_extension": ".py",
   "mimetype": "text/x-python",
   "name": "python",
   "nbconvert_exporter": "python",
   "pygments_lexer": "ipython3",
   "version": "3.9.16"
  }
 },
 "nbformat": 4,
 "nbformat_minor": 5
}
